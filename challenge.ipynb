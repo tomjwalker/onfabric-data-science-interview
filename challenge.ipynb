{
 "cells": [
  {
   "cell_type": "markdown",
   "metadata": {
    "pycharm": {
     "name": "#%% md\n"
    }
   },
   "source": [
    "### Challenge\n",
    "At FakeFashionCorp, we're always looking to **improve our product recommendations for our customers**. As a member of our data science team, your task is to make the best recommendations possible based on the provided data:\n",
    "\n",
    "- **Customer Search Data**: A list of google search queries made by a **specific** customer. You can find the data in the `./search_history.json` file.\n",
    "- **Product Catalog**: A dataset containing 100,000 **fashion items** from our current inventory, including details such as product name, category, description, and other relevant attributes. You can find the data in the `./fashion_catalog.json` file.\n",
    "\n",
    "Your challenge is to analyze the customer's search history and use this information to select the most relevant items from our product catalog that we should recommend to this customer.\n",
    "\n",
    "Here are the specific requirements:\n",
    "\n",
    "- Select the top items that best match the customer's apparent interests and preferences.\n",
    "- Provide a brief explanation of your approach, including any assumptions you made and the reasoning behind your methodology.\n",
    "- Include any visualizations or metrics that support your recommendations.\n",
    "- Make sure to include the cell output in the final commit, we will **not** execute the script ourselves.\n",
    "\n",
    "### Dummy approach\n",
    "The following is what we consider a **dummy** approach. We expect you to find a more clever solution that this:\n",
    "1. embed the customer's searches\n",
    "2. rank the searches according to some semantic similarity to a fashion related anchor\n",
    "3. for each fashion related search, find the product in the catalog that is most similar\n",
    "\n",
    "We encourage you to be creative in your approach. There's no single correct solution, and we're interested in seeing how you tackle this real-world problem.\n",
    "\n",
    "Hint: **how can we truly understand the customer's preferences?**"
   ]
  },
  {
   "cell_type": "markdown",
   "metadata": {
    "vscode": {
     "languageId": "plaintext"
    }
   },
   "source": [
    "### 0. Repo structure\n",
    "\n",
    "The project structure is organized as follows:\n",
    "\n",
    "```text\n",
    "├── README.md\n",
    "├── challenge.ipynb\n",
    "├── data\n",
    "│   ├── chroma_db - Vector database storing processed and embedded fashion catalog items\n",
    "│   ├── processed\n",
    "│   │   ├── analysis_summary.txt - Generated user profile and recommendations\n",
    "│   │   ├── fashion_analysis.json - Extracted fashion entities and topics\n",
    "│   │   ├── fashion_catalog_sampled.json\n",
    "│   │   ├── product_recommendations.json\n",
    "│   │   ├── search_history_sampled.json\n",
    "│   │   └── user_comp_analysis.txt\n",
    "│   └── raw\n",
    "│       ├── fashion_catalog.json - Raw fashion product catalog\n",
    "│       └── search_history.json - User search query history\n",
    "├── data_exploration\n",
    "│   └── search_history.py\n",
    "├── pyproject.toml\n",
    "├── requirements.txt\n",
    "├── setup.py\n",
    "├── src\n",
    "│   ├── __init__.py\n",
    "│   ├── config\n",
    "│   │   ├── __init__.py\n",
    "│   │   ├── model_config.py - Configuration for ML models and vector DB\n",
    "│   │   └── prompts.yaml - Template prompts for analysis tasks\n",
    "│   ├── data_processing\n",
    "│   │   ├── __init__.py\n",
    "│   │   ├── catalog_processor.py - Core processing logic for fashion catalog items\n",
    "│   │   ├── embeddings.py - Manages vector embeddings for catalog items\n",
    "│   │   ├── entity_extractor.py\n",
    "│   │   ├── fashion_catalog_downsampler.py\n",
    "│   │   ├── schema.py - Data models and validation schemas\n",
    "│   │   └── search_history_downsampler.py\n",
    "│   ├── examples\n",
    "│   │   ├── __init__.py\n",
    "│   │   ├── process_catalog.py - Main script for processing and embedding catalog data\n",
    "│   │   ├── product_recommendations.py\n",
    "│   │   └── test_embeddings.py\n",
    "│   └── features\n",
    "│       ├── __init__.py\n",
    "│       ├── fashion_analysis.py - Analyzes fashion-related entities and trends\n",
    "│       └── user_comp_analysis.py - Comprehensive user behaviour analysis\n",
    "└── utils\n",
    "    ├── generate_tree.py\n",
    "    └── project_structure.txt\n",
    "    ```\n"
   ]
  },
  {
   "cell_type": "markdown",
   "metadata": {
    "pycharm": {
     "name": "#%%\n"
    }
   },
   "source": [
    "### 0. Analyse raw datasets"
   ]
  },
  {
   "cell_type": "markdown",
   "metadata": {
    "vscode": {
     "languageId": "plaintext"
    }
   },
   "source": [
    "An preliminary analysis of the input datasets `data/raw/search_history.json` and `data/raw/fashion_catalog.json` was performed early on. Multiple fields were identified as potentially redundant for the pipeline outlined below (e.g. multiple fashion image URLs per product - not doing any CV; some categorical fields in the datasets with a cardinality of 1).\n",
    "\n",
    "The approach decided upon and outlined below was to do LLM-based analysis of the files (`GPT-4o-mini`), so not much time was spent pre-processing the datasets (save for the downsampling, detailed below).\n",
    "\n",
    "It was noted that the `search_history.json` comprised many different browser searches, and was not fashion specific."
   ]
  },
  {
   "cell_type": "markdown",
   "metadata": {},
   "source": []
  },
  {
   "cell_type": "markdown",
   "metadata": {},
   "source": [
    "### 1. Downsample datasets\n",
    "\n",
    "Search history JSON consists of 55383 items, while the fashion catalog consists of 100,000.\n",
    "\n",
    "These downsampling modules allowed me to debug the pipeline on very small subsets of the raw datasets, and then ultimately prove the pipeline on larger datasets (10% of the raw input datasets), while keeping the OpenAI API costs down.\n",
    "\n",
    "Module docstrings for each explain the functionality, but essentially, they are using `random.sample` to sample items from the raw datasets."
   ]
  },
  {
   "cell_type": "markdown",
   "metadata": {
    "vscode": {
     "languageId": "plaintext"
    }
   },
   "source": [
    "Example of running search_history_downsampler.py from command line\n",
    "```bash\n",
    "!python src/data_processing/search_history_downsampler.py \\\n",
    "    --input data/raw/search_history.json \\\n",
    "    --output data/processed/search_history_sampled.json \\\n",
    "    --fraction 0.1\n",
    "    ```"
   ]
  },
  {
   "cell_type": "markdown",
   "metadata": {},
   "source": [
    "Example output:\n",
    "```bash\n",
    "Processed search history:\n",
    "Total entries: 55383\n",
    "Sampled entries: 5538\n",
    "Sample fraction: 0.1\n",
    "```"
   ]
  },
  {
   "cell_type": "markdown",
   "metadata": {},
   "source": [
    "Example of running fashion_catalog_downsampler.py from command line\n",
    "```bash\n",
    "!python src/data_processing/fashion_catalog_downsampler.py \\\n",
    "    --input data/raw/fashion_catalog.json \\\n",
    "     --output data/processed/fashion_catalog_sampled.json \\\n",
    "     --fraction 0.1\n",
    "    ```"
   ]
  },
  {
   "cell_type": "markdown",
   "metadata": {},
   "source": [
    "Example output:\n",
    "```bash\n",
    "Processed fashion catalog:\n",
    "Total entries: 100000\n",
    "Sampled entries: 10000\n",
    "Sample fraction: 0.1\n",
    "```"
   ]
  },
  {
   "cell_type": "markdown",
   "metadata": {},
   "source": [
    "### 2. Extract features from `search_history`"
   ]
  },
  {
   "cell_type": "markdown",
   "metadata": {
    "vscode": {
     "languageId": "plaintext"
    }
   },
   "source": [
    "The main module for processing `search_history` (actually, the downsampled `output data/processed/search_history_sampled.json` from the previous step) is `src/features/user_comp_analysis.py`.\n",
    "\n",
    "It performs the following steps, using `GPT-4o-mini` for NLP tasks:\n",
    "\n",
    "0. Uses tiktoken to estimate long run cost and give y/n dialog before long runs\n",
    "1. Chunked processing of large JSON files with memory efficiency. For each chunk:\n",
    "    1. Fashion entity extraction (brands, products, styles); updating a structured JSON which logs statistics across the chunks\n",
    "    2. Chunk summary including fashion topic/trend extraction\n",
    "    2. Vector database caching using ChromaDB\n",
    "2. Once all chunks have been processed, a final prompt to the model to take all chunk summaries, alongside the extracted entities, and generate a summary of the user, both for a convenient, human-readable output of the processed search history, and as an input to the product recommendation steps."
   ]
  },
  {
   "cell_type": "markdown",
   "metadata": {},
   "source": [
    "Example command line usages:\n",
    "\n",
    "```bash\n",
    "    # Full analysis\n",
    "    $ python user_comp_analysis.py --input data/raw/search_history.json --verbose\n",
    "\n",
    "    # Test run (2 chunks only)\n",
    "    $ python user_comp_analysis.py --test --verbose\n",
    "\n",
    "    # Custom output location\n",
    "    $ python user_comp_analysis.py -i input.json -o output/analysis.txt\n",
    "```"
   ]
  },
  {
   "cell_type": "markdown",
   "metadata": {},
   "source": [
    "#### Output 1: [fashion_analysis.json](data/processed/fashion_analysis.json)\n",
    "\n",
    "1. Tracks entity frequencies, e.g.\n",
    "```json\n",
    "\"brands\": {\n",
    "      \"luxury\": {\n",
    "        \"marc jacobs\": 1,\n",
    "        \"Dior\": 17,\n",
    "        \"alexander mcqueen\": 1,\n",
    "        \"Jacquemus\": 4,\n",
    "        \"Christian Louboutin\": 9,\n",
    "      },\n",
    "      \"high_street\": {\n",
    "        \"John Lewis Camden\": 1,\n",
    "        \"H&M\": 2,\n",
    "        \"john lewis camden\": 5,\n",
    "        \"Reiss\": 3,\n",
    "        \"Marks & Spencer\": 19,\n",
    "      },\n",
    "      \"sportswear\": {\n",
    "        \"salomon hiking shoes women\": 1,\n",
    "        \"tommy hilfiger\": 3,\n",
    "      }\n",
    "      ```\n",
    "2. Also tracks raw entity counts\n",
    "\n",
    "Details of this JSON are fed into each iteration of the loop over chunks, and it is updated on each iteration"
   ]
  },
  {
   "cell_type": "markdown",
   "metadata": {
    "vscode": {
     "languageId": "plaintext"
    }
   },
   "source": [
    "#### Output 2: [analysis_summary.txt](./data/processed/analysis_summary.txt)\n",
    "\n",
    "A summary of all the chunk summaries and extracted entities, structured into various sections, including general and fashion-specific topics\n",
    "\n",
    "Output can be read at the link above, a sample of the sections recreated here:\n",
    "\n",
    "```text\n",
    "### User Profile\n",
    "\n",
    "#### 1. **Core User Profile**:\n",
    "- **Demographics**:\n",
    "  - **Gender**: Predominantly female\n",
    "  - **Age Range**: 25-45 years\n",
    "  - **Life Stage**: Likely to be professionals or in transitional life stages such as new careers or family planning (e.g., engaged or married).\n",
    "\n",
    "- **Geographic Context**: \n",
    "  - Predominantly in urban areas where fashion and luxury brands are more accessible (e.g., major cities in the UK like London).\n",
    "\n",
    "- **Lifestyle Indicators**: \n",
    "  - Enjoys a blend of luxury and high-street fashion.\n",
    "  - Engaged in professional settings, where business attire is often required.\n",
    "  - Interest in sustainability and ethical fashion may be inferred from the mix of luxury and high-street brands.\n",
    "\n",
    "#### 2. **Fashion Profile**:\n",
    "- **Most Frequently Searched Brands**:\n",
    "  - **Luxury**: Dior, Christian Louboutin, Prada, and Tiffany & Co.\n",
    "  - **High Street**: Marks & Spencer, Zara, and Ted Baker, indicating a balance between affordable and high-end shopping preferences.\n",
    "  - **Sportswear**: Tommy Hilfiger and Nike, suggesting a preference for sporty chic aesthetics.\n",
    "\n",
    "\n",
    "#### 3. **Shopping Behaviour**:\n",
    "- **Price Sensitivity**: \n",
    "  - The user shows a willingness to invest in luxury brands such as Dior and Prada indicating lower price sensitivity for high-quality products, while still engaging with accessible brands like Marks & Spencer and Zara.\n",
    "\n",
    "\n",
    "#### 4. **Recommendations**:\n",
    "- **Product Recommendations**:\n",
    "  - **Clothing**: Consider offering tailored business suits, designer blouses, and statement dresses that epitomize luxury while being suitable for professional settings.\n",
    "  - **Footwear**: Recommend high-quality pumps from brands like Manolo Blahnik or elegant heeled sandals from Valentino.\n",
    "  - **Accessories**: Suggest designer handbags, chic jewelry pieces, and stylish brooches from Van Cleef & Arpels.\n",
    "\n",
    "\n",
    "#### 5. **Marketing Approach**:\n",
    "- **Suggested Engagement Channels**:\n",
    "  - Utilize social media platforms like Instagram and Pinterest for visual inspiration, with a website presence that features blog-style content around fashion tips and trends.\n",
    "  - Engage via email newsletters with curated product recommendations based on browsing habits.\n",
    "\n",
    "  ```\n",
    "\n"
   ]
  },
  {
   "cell_type": "markdown",
   "metadata": {},
   "source": [
    "### 3. Embed `fashion_catalog`\n",
    "\n",
    "Takes the (downsampled) fashion catalog and:\n",
    "1. Processes fashion product data using OpenAI embeddings\n",
    "2. Extracts structured entities (brand, category, price tier)\n",
    "3. Stores processed items in a vector database (ChromaDB)\n",
    "4. Enables semantic search with filtering"
   ]
  },
  {
   "cell_type": "markdown",
   "metadata": {},
   "source": [
    "Example command line usage:\n",
    "\n",
    "```bash\n",
    "    $ python process_catalog.py --catalog-path data/processed/fashion_catalog_sampled.json --verbose\n",
    "```"
   ]
  },
  {
   "cell_type": "markdown",
   "metadata": {
    "vscode": {
     "languageId": "plaintext"
    }
   },
   "source": [
    "Output is a ChromaDB vector database, saved in [data/chroma_db](data/chroma_db)"
   ]
  },
  {
   "cell_type": "markdown",
   "metadata": {},
   "source": [
    "### Product recommendations"
   ]
  },
  {
   "cell_type": "markdown",
   "metadata": {
    "vscode": {
     "languageId": "plaintext"
    }
   },
   "source": [
    "The module [`src/examples/product_recommendations.py`](`src/examples/product_recommendations.py`) runs the product recommendation process. \n",
    "\n",
    "It uses the processed user search history artefacts (the extracted entity counts/densities and the overall summary) to formulate weighted queries.\n",
    "\n",
    "These are then used to query the ChromaDB vector database of products, semantically.\n",
    "\n",
    "As a demo, the script currently generates 3 sets of the top 5 product recommendations (by cosine similarity).\n",
    "\n",
    "The three demo sets are searches by:\n",
    "1. Fashion items similar to the top 5 **brands** from the user's search history, and filtered by \"luxury\" price tier\n",
    "2. Fashion items similar to the top 5 **products** from the user's search history, and filtered by \"luxury\" price tier\n",
    "3. Fashion items informed by the comprehensive user search summary from `user_comp_analysis.txt`, and filtered by \"luxury\" price tier"
   ]
  },
  {
   "cell_type": "markdown",
   "metadata": {},
   "source": [
    "#### Usage\n",
    "\n",
    "```bash\n",
    "# Run with default paths\n",
    "python src/examples/product_recommendations.py\n",
    "\n",
    "# Run with custom analysis files\n",
    "python src/examples/product_recommendations.py --fashion-analysis data/custom/fashion_trends.json \\\n",
    "                        --user-analysis data/custom/user_profile.txt\n",
    "\n",
    "# Run personalised recommendations with specific user analysis\n",
    "python src/examples/product_recommendations.py --user-analysis data/users/luxury_profile.txt \\\n",
    "                        --output results/luxury_recommendations.json\n",
    "                        ```"
   ]
  },
  {
   "cell_type": "markdown",
   "metadata": {
    "vscode": {
     "languageId": "plaintext"
    }
   },
   "source": [
    "#### Output:\n",
    "\n",
    "Product recommendations are saved in [`data/processed/product_recommendations.json`](`data/processed/product_recommendations.json`).\n",
    "\n",
    "A sample from the current output (better to look at the full output at the link):\n"
   ]
  },
  {
   "cell_type": "markdown",
   "metadata": {},
   "source": [
    "\n",
    "**Set 1**:\n",
    "```json\n",
    "\"metadatas\": [\n",
    "      [\n",
    "        {\n",
    "          \"brand\": \"Jean Paul Gaultier\",\n",
    "          \"category\": \"dress\",\n",
    "          \"gender\": \"F\",\n",
    "          \"price_tier\": \"luxury\",\n",
    "          \"url\": \"https://www.lyst.com/clothing/jean-paul-gaultier-dress-96\"\n",
    "        },\n",
    "        {\n",
    "          \"brand\": \"Prada\",\n",
    "          \"category\": \"scarves\",\n",
    "          \"gender\": \"F\",\n",
    "          \"price_tier\": \"luxury\",\n",
    "          \"url\": \"https://www.lyst.com/accessories/prada-wool-and-silk-scarf\"\n",
    "        },\n",
    "        {\n",
    "          \"brand\": \"Givenchy\",\n",
    "          \"category\": \"scarves\",\n",
    "          \"gender\": \"F\",\n",
    "          \"price_tier\": \"luxury\",\n",
    "          \"url\": \"https://www.lyst.com/accessories/givenchy-silky-scarves-31\"\n",
    "        },\n",
    "        {\n",
    "          \"brand\": \"Dolce & Gabbana\",\n",
    "          \"category\": \"scarves\",\n",
    "          \"gender\": \"M\",\n",
    "          \"price_tier\": \"luxury\",\n",
    "          \"url\": \"https://www.lyst.com/accessories/dolce-gabbana-floral-print-striped-scarf\"\n",
    "        },\n",
    "        {\n",
    "          \"brand\": \"Fendi\",\n",
    "          \"category\": \"scarves\",\n",
    "          \"gender\": \"M\",\n",
    "          \"price_tier\": \"luxury\",\n",
    "          \"url\": \"https://www.lyst.com/accessories/fendi-winter-scarves-24\"\n",
    "        }\n",
    "      ]\n",
    "      ```\n"
   ]
  },
  {
   "cell_type": "markdown",
   "metadata": {},
   "source": [
    "\n",
    "**Set 2**:\n",
    "```json\n",
    "\"metadatas\": [\n",
    "      [\n",
    "        {\n",
    "          \"brand\": \"Tory Burch\",\n",
    "          \"category\": \"handbag\",\n",
    "          \"gender\": \"F\",\n",
    "          \"price_tier\": \"luxury\",\n",
    "          \"url\": \"https://www.lyst.com/bags/tory-burch-handbag-1679\"\n",
    "        },\n",
    "        {\n",
    "          \"brand\": \"Vivienne Westwood\",\n",
    "          \"category\": \"shoulder bags\",\n",
    "          \"gender\": \"F\",\n",
    "          \"price_tier\": \"luxury\",\n",
    "          \"url\": \"https://www.lyst.com/bags/vivienne-westwood-clutches-47\"\n",
    "        },\n",
    "        {\n",
    "          \"brand\": \"Jimmy Choo\",\n",
    "          \"category\": \"handbag\",\n",
    "          \"gender\": \"F\",\n",
    "          \"price_tier\": \"luxury\",\n",
    "          \"url\": \"https://www.lyst.com/bags/jimmy-choo-handbag-862\"\n",
    "        },\n",
    "        {\n",
    "          \"brand\": \"Golden Goose\",\n",
    "          \"category\": \"tote\",\n",
    "          \"gender\": \"F\",\n",
    "          \"price_tier\": \"luxury\",\n",
    "          \"url\": \"https://www.lyst.com/bags/golden-goose-deluxe-brand-handbags-115\"\n",
    "        },\n",
    "        {\n",
    "          \"brand\": \"BOYY\",\n",
    "          \"category\": \"totes\",\n",
    "          \"gender\": \"F\",\n",
    "          \"price_tier\": \"luxury\",\n",
    "          \"url\": \"https://www.lyst.com/bags/boyy-leather-lotus-12-handbag-2\"\n",
    "        }\n",
    "      ]\n",
    "    ],\n",
    "      ```"
   ]
  },
  {
   "cell_type": "markdown",
   "metadata": {},
   "source": [
    "\n",
    "**Set 3**:\n",
    "```json\n",
    "\"metadatas\": [\n",
    "  [\n",
    "        {\n",
    "          \"brand\": \"maje\",\n",
    "          \"category\": \"jackets\",\n",
    "          \"gender\": \"F\",\n",
    "          \"price_tier\": \"luxury\",\n",
    "          \"url\": \"https://www.lyst.com/clothing/maje-suit-jacket-141\"\n",
    "        },\n",
    "        {\n",
    "          \"brand\": \"Versace\",\n",
    "          \"category\": \"jackets\",\n",
    "          \"gender\": \"F\",\n",
    "          \"price_tier\": \"luxury\",\n",
    "          \"url\": \"https://www.lyst.com/clothing/versace-crocodile-jacquard-wool-blazer\"\n",
    "        },\n",
    "        {\n",
    "          \"brand\": \"Lanvin\",\n",
    "          \"category\": \"sneakers\",\n",
    "          \"gender\": \"F\",\n",
    "          \"price_tier\": \"luxury\",\n",
    "          \"url\": \"https://www.lyst.com/shoes/lanvin-knitted-sneakers-1\"\n",
    "        },\n",
    "        {\n",
    "          \"brand\": \"Versace\",\n",
    "          \"category\": \"jackets\",\n",
    "          \"gender\": \"M\",\n",
    "          \"price_tier\": \"luxury\",\n",
    "          \"url\": \"https://www.lyst.com/clothing/versace-jacket-1767\"\n",
    "        },\n",
    "        {\n",
    "          \"brand\": \"Dorothee Schumacher\",\n",
    "          \"category\": \"jackets\",\n",
    "          \"gender\": \"F\",\n",
    "          \"price_tier\": \"luxury\",\n",
    "          \"url\": \"https://www.lyst.com/clothing/dorothee-schumacher-plaid-shirt-jacket-with-embossed-leather-details\"\n",
    "        }\n",
    "      ]\n",
    "    ],\n",
    "      ```"
   ]
  },
  {
   "cell_type": "markdown",
   "metadata": {},
   "source": []
  },
  {
   "cell_type": "code",
   "execution_count": null,
   "metadata": {
    "vscode": {
     "languageId": "plaintext"
    }
   },
   "outputs": [],
   "source": []
  },
  {
   "cell_type": "code",
   "execution_count": null,
   "metadata": {
    "vscode": {
     "languageId": "plaintext"
    }
   },
   "outputs": [],
   "source": []
  }
 ],
 "metadata": {
  "kernelspec": {
   "display_name": "fashion",
   "language": "python",
   "name": "python3"
  },
  "language_info": {
   "codemirror_mode": {
    "name": "ipython",
    "version": 3
   },
   "file_extension": ".py",
   "mimetype": "text/x-python",
   "name": "python",
   "nbconvert_exporter": "python",
   "pygments_lexer": "ipython3",
   "version": "3.10.14"
  }
 },
 "nbformat": 4,
 "nbformat_minor": 2
}
